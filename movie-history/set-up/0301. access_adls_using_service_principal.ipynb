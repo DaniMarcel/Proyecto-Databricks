{
 "cells": [
  {
   "cell_type": "markdown",
   "metadata": {
    "application/vnd.databricks.v1+cell": {
     "cellMetadata": {
      "byteLimit": 2048000,
      "rowLimit": 10000
     },
     "inputWidgets": {},
     "nuid": "aaccc946-4d41-49c1-8579-8aaca856b27d",
     "showTitle": false,
     "tableResultSettingsMap": {},
     "title": ""
    }
   },
   "source": [
    "### Acceder a Azure Data Lake Storage mediante Service Principal\n",
    "\n",
    "1. \"Registrar la aplicacion\" en azure Entre ID/ Service Principal\n",
    "2. Generar un secreto(contraseña) para la aplicacion\n",
    "3. Configurar Spark con APP / Cloente Id, Directory / Tenand Id & Secret\n",
    "4. Asignar el role \"Storage Blob Data Contributor\" al Data Lake"
   ]
  },
  {
   "cell_type": "code",
   "execution_count": 0,
   "metadata": {
    "application/vnd.databricks.v1+cell": {
     "cellMetadata": {
      "byteLimit": 2048000,
      "rowLimit": 10000
     },
     "inputWidgets": {},
     "nuid": "00e770cf-c0ea-4705-bafe-d177aab9b466",
     "showTitle": false,
     "tableResultSettingsMap": {},
     "title": ""
    }
   },
   "outputs": [],
   "source": [
    "client_id = dbutils.secrets.get(scope=\"------------------------------\", key=\"------------------------------\")\n",
    "\n",
    "tenant_id = dbutils.secrets.get(scope=\"------------------------------\", key=\"------------------------------\")\n",
    "\n",
    "client_secret = dbutils.secrets.get(scope=\"------------------------------\", key=\"------------------------------\")"
   ]
  },
  {
   "cell_type": "code",
   "execution_count": 0,
   "metadata": {
    "application/vnd.databricks.v1+cell": {
     "cellMetadata": {
      "byteLimit": 2048000,
      "rowLimit": 10000
     },
     "inputWidgets": {},
     "nuid": "8f45d27e-a4da-415f-998e-392754d817bd",
     "showTitle": false,
     "tableResultSettingsMap": {},
     "title": ""
    }
   },
   "outputs": [],
   "source": [
    "spark.conf.set(\"------------------------------\", \"------------------------------\")\n",
    "\n",
    "spark.conf.set(\"------------------------------\", \n",
    "               \"------------------------------\")\n",
    "\n",
    "spark.conf.set(\"------------------------------\", \n",
    "               client_id)\n",
    "\n",
    "spark.conf.set(\"------------------------------\",\n",
    "               client_secret)\n",
    "\n",
    "spark.conf.set(\"------------------------------\", \n",
    "               f\"------------------------------\")"
   ]
  },
  {
   "cell_type": "code",
   "execution_count": 0,
   "metadata": {
    "application/vnd.databricks.v1+cell": {
     "cellMetadata": {
      "byteLimit": 2048000,
      "rowLimit": 10000
     },
     "inputWidgets": {},
     "nuid": "e9e09a7e-11d6-49c5-9425-36c48e5c9d0f",
     "showTitle": false,
     "tableResultSettingsMap": {},
     "title": ""
    }
   },
   "outputs": [],
   "source": [
    "display(dbutils.fs.ls(\"abfss://demo@moviehistory2025.dfs.core.windows.net\"))"
   ]
  },
  {
   "cell_type": "code",
   "execution_count": 0,
   "metadata": {
    "application/vnd.databricks.v1+cell": {
     "cellMetadata": {
      "byteLimit": 2048000,
      "rowLimit": 10000
     },
     "inputWidgets": {},
     "nuid": "44e14a60-2a4e-452c-af10-f94adde33740",
     "showTitle": false,
     "tableResultSettingsMap": {},
     "title": ""
    }
   },
   "outputs": [],
   "source": [
    "# usamos la api de spark\n",
    "display(spark.read.csv(\"------------------------------\"))"
   ]
  }
 ],
 "metadata": {
  "application/vnd.databricks.v1+notebook": {
   "computePreferences": null,
   "dashboards": [],
   "environmentMetadata": {
    "base_environment": "",
    "environment_version": "3"
   },
   "inputWidgetPreferences": null,
   "language": "python",
   "notebookMetadata": {
    "pythonIndentUnit": 4
   },
   "notebookName": "0301. access_adls_using_service_principal",
   "widgets": {}
  },
  "language_info": {
   "name": "python"
  }
 },
 "nbformat": 4,
 "nbformat_minor": 0
}
