{
 "cells": [
  {
   "cell_type": "markdown",
   "metadata": {
    "application/vnd.databricks.v1+cell": {
     "cellMetadata": {
      "byteLimit": 2048000,
      "rowLimit": 10000
     },
     "inputWidgets": {},
     "nuid": "00927f74-3b29-44f3-b6d3-edf0ad470b86",
     "showTitle": false,
     "tableResultSettingsMap": {},
     "title": ""
    }
   },
   "source": [
    "### Crear la Tabla results_movie en la capa \"gold\""
   ]
  },
  {
   "cell_type": "code",
   "execution_count": 0,
   "metadata": {
    "application/vnd.databricks.v1+cell": {
     "cellMetadata": {
      "byteLimit": 2048000,
      "rowLimit": 10000
     },
     "inputWidgets": {},
     "nuid": "825baa1c-6719-4fcd-bc5c-f12a458cd694",
     "showTitle": false,
     "tableResultSettingsMap": {},
     "title": ""
    }
   },
   "outputs": [],
   "source": [
    "dbutils.widgets.text(\"p_file_date\", \"2024-12-30\")\n",
    "v_file_date = dbutils.widgets.get(\"p_file_date\")"
   ]
  },
  {
   "cell_type": "code",
   "execution_count": 0,
   "metadata": {
    "application/vnd.databricks.v1+cell": {
     "cellMetadata": {
      "byteLimit": 2048000,
      "rowLimit": 10000
     },
     "inputWidgets": {},
     "nuid": "c057470c-67d6-4dd0-86e8-ea1b5e18babf",
     "showTitle": false,
     "tableResultSettingsMap": {},
     "title": ""
    }
   },
   "outputs": [],
   "source": [
    "spark.sql(\"\"\"\n",
    "          CREATE TABLE IF NOT EXISTS movie_gold.results_movie(\n",
    "              year_release_date INT,\n",
    "              country_name STRING,\n",
    "              company_name STRING,\n",
    "              budget FLOAT,\n",
    "              revenue FLOAT,\n",
    "              movie_id INT,\n",
    "              country_id INT,\n",
    "              company_id INT,\n",
    "              created_date DATE,\n",
    "              updated_date DATE\n",
    "              )\n",
    "            USING DELTA\n",
    "          \"\"\")"
   ]
  },
  {
   "cell_type": "code",
   "execution_count": 0,
   "metadata": {
    "application/vnd.databricks.v1+cell": {
     "cellMetadata": {
      "byteLimit": 2048000,
      "rowLimit": 10000
     },
     "inputWidgets": {},
     "nuid": "0b854843-de68-4051-a250-1272cd8ec04a",
     "showTitle": false,
     "tableResultSettingsMap": {},
     "title": ""
    }
   },
   "outputs": [],
   "source": [
    "spark.sql(f\"\"\"\n",
    "    CREATE OR REPLACE TEMP VIEW v_results_movie\n",
    "    AS\n",
    "    SELECT M.year_release_date, C.country_name, PCO.company_name, M.budget, M.revenue, M.movie_id, C.country_id, PCO.company_id\n",
    "    FROM movie_silver.movies M\n",
    "    INNER JOIN movie_silver.productions_countries PC ON M.movie_id = PC.movie_id\n",
    "    INNER JOIN movie_silver.countries C ON C.country_id = PC.country_id\n",
    "    INNER JOIN movie_silver.movies_companies MC ON M.movie_id = MC.movie_id\n",
    "    INNER JOIN movie_silver.productions_companies PCO ON MC.company_id = PCO.company_id\n",
    "    WHERE M.file_date = '{v_file_date}'\n",
    "\"\"\")"
   ]
  },
  {
   "cell_type": "code",
   "execution_count": 0,
   "metadata": {
    "application/vnd.databricks.v1+cell": {
     "cellMetadata": {
      "byteLimit": 2048000,
      "implicitDf": true,
      "rowLimit": 10000
     },
     "inputWidgets": {},
     "nuid": "a9608180-6e11-4436-b6db-ac41f253a4dd",
     "showTitle": false,
     "tableResultSettingsMap": {},
     "title": ""
    }
   },
   "outputs": [],
   "source": [
    "%sql\n",
    "SELECT * FROM v_results_movie"
   ]
  },
  {
   "cell_type": "code",
   "execution_count": 0,
   "metadata": {
    "application/vnd.databricks.v1+cell": {
     "cellMetadata": {
      "byteLimit": 2048000,
      "implicitDf": true,
      "rowLimit": 10000
     },
     "inputWidgets": {},
     "nuid": "51089297-7d12-4f23-b327-56255e236b0a",
     "showTitle": false,
     "tableResultSettingsMap": {},
     "title": ""
    }
   },
   "outputs": [],
   "source": [
    "# Set ansi_mode to false in a separate statement\n",
    "spark.sql(\"SET ansi_mode = false\")\n",
    "\n",
    "# Now run your MERGE statement\n",
    "spark.sql(\"\"\"\n",
    "    MERGE INTO movie_gold.results_movie tgt\n",
    "    USING (\n",
    "    SELECT\n",
    "        try_cast(year_release_date AS INT) AS year_release_date,\n",
    "        country_name,\n",
    "        company_name,\n",
    "        try_cast(budget AS INT) AS budget,\n",
    "        try_cast(revenue AS INT) AS revenue,\n",
    "        movie_id,\n",
    "        country_id,\n",
    "        company_id\n",
    "    FROM v_results_movie\n",
    "    ) src\n",
    "    ON (\n",
    "    tgt.movie_id = src.movie_id\n",
    "    AND tgt.country_id = src.country_id\n",
    "    AND tgt.company_id = src.company_id\n",
    "    )\n",
    "    WHEN MATCHED THEN\n",
    "    UPDATE SET\n",
    "        tgt.year_release_date = src.year_release_date,\n",
    "        tgt.country_name = src.country_name,\n",
    "        tgt.company_name = src.company_name,\n",
    "        tgt.budget = src.budget,\n",
    "        tgt.revenue = src.revenue,\n",
    "        tgt.updated_date = current_timestamp\n",
    "    WHEN NOT MATCHED THEN \n",
    "    INSERT (\n",
    "        year_release_date, country_name, company_name, budget, revenue,\n",
    "        movie_id, country_id, company_id, created_date\n",
    "    )\n",
    "    VALUES (\n",
    "        src.year_release_date, src.country_name, src.company_name, src.budget, src.revenue,\n",
    "        src.movie_id, src.country_id, src.company_id, current_timestamp\n",
    "    )\n",
    "\"\"\")"
   ]
  },
  {
   "cell_type": "code",
   "execution_count": 0,
   "metadata": {
    "application/vnd.databricks.v1+cell": {
     "cellMetadata": {
      "byteLimit": 2048000,
      "implicitDf": true,
      "rowLimit": 10000
     },
     "inputWidgets": {},
     "nuid": "1d6027cd-a41a-44e1-9c5f-08f28655ef3f",
     "showTitle": false,
     "tableResultSettingsMap": {},
     "title": ""
    }
   },
   "outputs": [],
   "source": [
    "%sql\n",
    "SELECT count(1) FROM movie_gold.results_movie;"
   ]
  },
  {
   "cell_type": "code",
   "execution_count": 0,
   "metadata": {
    "application/vnd.databricks.v1+cell": {
     "cellMetadata": {
      "byteLimit": 2048000,
      "rowLimit": 10000
     },
     "inputWidgets": {},
     "nuid": "c8aa2ab3-4945-42fe-bc67-d54a36cfd4f1",
     "showTitle": false,
     "tableResultSettingsMap": {},
     "title": ""
    }
   },
   "outputs": [],
   "source": []
  }
 ],
 "metadata": {
  "application/vnd.databricks.v1+notebook": {
   "computePreferences": null,
   "dashboards": [],
   "environmentMetadata": {
    "base_environment": "",
    "environment_version": "3"
   },
   "inputWidgetPreferences": null,
   "language": "python",
   "notebookMetadata": {
    "mostRecentlyExecutedCommandWithImplicitDF": {
     "commandId": 7004262203348042,
     "dataframes": [
      "_sqldf"
     ]
    },
    "pythonIndentUnit": 4
   },
   "notebookName": "06.results_movie",
   "widgets": {
    "p_file_date": {
     "currentValue": "2024-12-16",
     "nuid": "ebf151ef-ace8-446b-9979-4ed36dbe0bd9",
     "typedWidgetInfo": {
      "autoCreated": false,
      "defaultValue": "2024-12-30",
      "label": null,
      "name": "p_file_date",
      "options": {
       "widgetDisplayType": "Text",
       "validationRegex": null
      },
      "parameterDataType": "String"
     },
     "widgetInfo": {
      "widgetType": "text",
      "defaultValue": "2024-12-30",
      "label": null,
      "name": "p_file_date",
      "options": {
       "widgetType": "text",
       "autoCreated": null,
       "validationRegex": null
      }
     }
    }
   }
  },
  "language_info": {
   "name": "python"
  }
 },
 "nbformat": 4,
 "nbformat_minor": 0
}
